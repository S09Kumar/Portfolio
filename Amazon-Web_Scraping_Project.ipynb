{
 "cells": [
  {
   "cell_type": "markdown",
   "id": "e8d87f95",
   "metadata": {},
   "source": [
    "# Web Scraping- Amazon Website"
   ]
  },
  {
   "cell_type": "code",
   "execution_count": 2,
   "id": "0da1ebe7",
   "metadata": {},
   "outputs": [],
   "source": [
    "#Libraries Required\n",
    "\n",
    "from bs4 import BeautifulSoup\n",
    "import requests\n",
    "import smtplib\n",
    "import time\n",
    "import datetime"
   ]
  },
  {
   "cell_type": "code",
   "execution_count": 3,
   "id": "b073739b",
   "metadata": {},
   "outputs": [
    {
     "name": "stdout",
     "output_type": "stream",
     "text": [
      "\n",
      "                   adidas Men's Essentials Feel Ready Training T-Shirt\n",
      "                  \n",
      "18.75\n"
     ]
    }
   ],
   "source": [
    "#Connecting to the website and pulling in data\n",
    "\n",
    "url = \"https://www.amazon.com/gp/aw/d/B09YB2MZLX/?_encoding=UTF8&pd_rd_plhdr=t&aaxitk=8606186fd58a98ea24e60dfe4355ba25&hsa_cr_id=9258672850101&qid=1699553111&sr=1-3-9e67e56a-6f64-441f-a281-df67fc737124&ref_=sbx_be_s_sparkle_lsi4d_asin_2_img&pd_rd_w=1F0NC&content-id=amzn1.sym.417820b0-80f2-4084-adb3-fb612550f30b%3Aamzn1.sym.417820b0-80f2-4084-adb3-fb612550f30b&pf_rd_p=417820b0-80f2-4084-adb3-fb612550f30b&pf_rd_r=7CXRCPY0RZBW1PY2QG9Q&pd_rd_wg=ig8sd&pd_rd_r=ae23160f-cc3a-4c45-81df-0eaa58ec12aa\"\n",
    "\n",
    "#our computer:\n",
    "headers = {\"User-Agent\": \"Mozilla/5.0 (Windows NT 10.0; Win64; x64) AppleWebKit/537.36 (KHTML, like Gecko) Chrome/118.0.0.0 Safari/537.36\", \"Accept-Encoding\": \"gzip, deflate, br\",\"Accept\": \"text/html,application/xhtml+xml,application/xml;q=0.9,image/avif,image/webp,image/apng,*/*;q=0.8,application/signed-exchange;v=b3;q=0.7\",\"DNT\":\"1\",\"Connection\":\"close\",\"Upgrade-Insecure-Requests\": \"1\"}\n",
    "\n",
    "page = requests.get(url,headers=headers)\n",
    "\n",
    "soup1= BeautifulSoup(page.content,'html.parser')\n",
    "\n",
    "soup2=BeautifulSoup(soup1.prettify(),'html.parser')\n",
    "\n",
    "title = soup2.find(id='productTitle').get_text()\n",
    "\n",
    "#price = soup2.find(id='')\n",
    "\n",
    "tag = soup2.find(\"span\", class_ = \"a-offscreen\") \n",
    "price = float(tag.string.strip()[1:])\n",
    "\n",
    "print(title)\n",
    "print(price)\n"
   ]
  },
  {
   "cell_type": "code",
   "execution_count": 44,
   "id": "43935a28",
   "metadata": {},
   "outputs": [
    {
     "name": "stdout",
     "output_type": "stream",
     "text": [
      "adidas Men's Essentials Feel Ready Training T-Shirt\n",
      ".99\n"
     ]
    },
    {
     "data": {
      "text/plain": [
       "str"
      ]
     },
     "execution_count": 44,
     "metadata": {},
     "output_type": "execute_result"
    }
   ],
   "source": [
    "#Cleaning up the data a little bit\n",
    "\n",
    "price = price.strip()[1:]\n",
    "title = title.strip()\n",
    "\n",
    "print(title)\n",
    "print(price)\n",
    "type(price)"
   ]
  },
  {
   "cell_type": "code",
   "execution_count": 32,
   "id": "7357d5dc",
   "metadata": {},
   "outputs": [
    {
     "name": "stdout",
     "output_type": "stream",
     "text": [
      "2023-11-09\n"
     ]
    }
   ],
   "source": [
    "# Creating a Timestamp for the output to track when data was collected\n",
    "\n",
    "import datetime\n",
    "\n",
    "today = datetime.date.today()\n",
    "\n",
    "print(today)"
   ]
  },
  {
   "cell_type": "code",
   "execution_count": 33,
   "id": "f6526063",
   "metadata": {},
   "outputs": [],
   "source": [
    "# Create CSV and write headers and data into the file\n",
    "\n",
    "import csv\n",
    "\n",
    "header = ['Title','Price','Date']\n",
    "data = [title,price,today]\n",
    "\n",
    "with open('AmazonWebScrapping.csv','w',newline='',encoding='UTF8') as f:\n",
    "        writer = csv.writer(f)\n",
    "        writer.writerow(header)\n",
    "        writer.writerow(data)"
   ]
  },
  {
   "cell_type": "code",
   "execution_count": 34,
   "id": "36f7268f",
   "metadata": {},
   "outputs": [
    {
     "name": "stdout",
     "output_type": "stream",
     "text": [
      "                                               Title  Price        Date\n",
      "0  adidas Men's Essentials Feel Ready Training T-...  19.99  2023-11-09\n"
     ]
    }
   ],
   "source": [
    "import pandas as pd\n",
    "\n",
    "df = pd.read_csv(r'C:\\Users\\sk\\Documents\\Jup_Proj1\\AmazonWebScrapping.csv')\n",
    "\n",
    "print(df)\n"
   ]
  },
  {
   "cell_type": "code",
   "execution_count": null,
   "id": "4b4f6ccf",
   "metadata": {},
   "outputs": [],
   "source": [
    "#Now we append the data to the csv\n",
    "\n",
    "\n",
    "with open('AmazonWebScrapping.csv','a+',newline='',encoding='UTF8') as f:\n",
    "        writer = csv.writer(f)\n",
    "        writer.writerow(data)"
   ]
  },
  {
   "cell_type": "code",
   "execution_count": 68,
   "id": "7458dc71",
   "metadata": {},
   "outputs": [],
   "source": [
    "#Combining all of the above code into one function\n",
    "\n",
    "\n",
    "def price_check():\n",
    "    \n",
    "    url = \"https://www.amazon.com/gp/aw/d/B09YB2MZLX/?_encoding=UTF8&pd_rd_plhdr=t&aaxitk=8606186fd58a98ea24e60dfe4355ba25&hsa_cr_id=9258672850101&qid=1699553111&sr=1-3-9e67e56a-6f64-441f-a281-df67fc737124&ref_=sbx_be_s_sparkle_lsi4d_asin_2_img&pd_rd_w=1F0NC&content-id=amzn1.sym.417820b0-80f2-4084-adb3-fb612550f30b%3Aamzn1.sym.417820b0-80f2-4084-adb3-fb612550f30b&pf_rd_p=417820b0-80f2-4084-adb3-fb612550f30b&pf_rd_r=7CXRCPY0RZBW1PY2QG9Q&pd_rd_wg=ig8sd&pd_rd_r=ae23160f-cc3a-4c45-81df-0eaa58ec12aa\"\n",
    "\n",
    "    headers = {\"User-Agent\": \"Mozilla/5.0 (Windows NT 10.0; Win64; x64) AppleWebKit/537.36 (KHTML, like Gecko) Chrome/118.0.0.0 Safari/537.36\", \"Accept-Encoding\": \"gzip, deflate, br\",\"Accept\": \"text/html,application/xhtml+xml,application/xml;q=0.9,image/avif,image/webp,image/apng,*/*;q=0.8,application/signed-exchange;v=b3;q=0.7\",\"DNT\":\"1\",\"Connection\":\"close\",\"Upgrade-Insecure-Requests\": \"1\"}\n",
    "\n",
    "    page = requests.get(url,headers=headers)\n",
    "\n",
    "    soup1= BeautifulSoup(page.content,'html.parser')\n",
    "\n",
    "    soup2=BeautifulSoup(soup1.prettify(),'html.parser')\n",
    "\n",
    "    title = soup2.find(id='productTitle').get_text()\n",
    "\n",
    "    tag = soup2.find(\"span\", class_ = \"a-offscreen\") # string \"class\" is reserved for python itself,so bs use string \"class_\"\n",
    "    price = float(tag.string.strip()[1:])\n",
    "    \n",
    "    title = title.strip()\n",
    "    \n",
    "    import datetime\n",
    "\n",
    "    today = datetime.date.today()\n",
    "    \n",
    "    import csv\n",
    "\n",
    "    header = ['Title','Price','Date']\n",
    "    data = [title,price,today]\n",
    "    \n",
    "    with open('AmazonWebScrapping.csv','a+',newline='',encoding='UTF8') as f:\n",
    "        writer = csv.writer(f)\n",
    "        writer.writerow(data)\n",
    "        \n",
    "    if(price<20):\n",
    "        email()"
   ]
  },
  {
   "cell_type": "code",
   "execution_count": 69,
   "id": "1d0a7870",
   "metadata": {
    "collapsed": true
   },

   "source": [
    "# Runs price_check after a set time and inputs data into your CSV\n",
    "\n",
    "\n",
    "while(True):\n",
    "    price_check()\n",
    "    time.sleep(5)"
   ]
  },
  {
   "cell_type": "code",
   "execution_count": 39,
   "id": "403d8440",
   "metadata": {},
   "outputs": [
    {
     "name": "stdout",
     "output_type": "stream",
     "text": [
      "                                               Title  Price        Date\n",
      "0  adidas Men's Essentials Feel Ready Training T-...  19.99  2023-11-09\n",
      "1  adidas Men's Essentials Feel Ready Training T-...  19.99  2023-11-09\n",
      "2  adidas Men's Essentials Feel Ready Training T-...  19.99  2023-11-09\n",
      "3  adidas Men's Essentials Feel Ready Training T-...  19.99  2023-11-09\n",
      "4  adidas Men's Essentials Feel Ready Training T-...  19.99  2023-11-09\n"
     ]
    }
   ],
   "source": [
    "import pandas as pd\n",
    "\n",
    "df = pd.read_csv(r'C:\\Users\\sk\\Documents\\Jup_Proj1\\AmazonWebScrapping.csv')\n",
    "\n",
    "print(df)"
   ]
  },
  {
   "cell_type": "code",
   "execution_count": 67,
   "id": "bb29b67f",
   "metadata": {},
   "outputs": [],
   "source": [
    "#Sending email when the particular condition is satisfied\n",
    "\n",
    "\n",
    "def email():\n",
    "    \n",
    "    server = smtplib.SMTP_SSL(\"https://accounts.google.com/v3/signin/identifier?authuser=0&continue=https%3A%2F%2Fmail.google.com&ec=GAlAFw&hl=en&service=mail&flowName=GlifWebSignIn&flowEntry=AddSession&dsh=S-1543254075%3A1699557313726270&theme=glif\",465)\n",
    "    server.ehlo()\n",
    "    server.login('santhosh@gmail.com','##########')\n",
    "    \n",
    "    subject = \"The price dropped down below $20\"\n",
    "    body = \"Santhosh the price dropped down and find your lucky to purchase the item online\"\n",
    "    \n",
    "    msg = f\"subject: {subject}\\n\\n{body}\"\n",
    "    \n",
    "    server.sendmail(\n",
    "        'santhosh@gmail.com',\n",
    "         msg\n",
    "    )\n",
    "    \n",
    "    "
   ]
  }
 ],
 "metadata": {
  "kernelspec": {
   "display_name": "Python 3 (ipykernel)",
   "language": "python",
   "name": "python3"
  },
  "language_info": {
   "codemirror_mode": {
    "name": "ipython",
    "version": 3
   },
   "file_extension": ".py",
   "mimetype": "text/x-python",
   "name": "python",
   "nbconvert_exporter": "python",
   "pygments_lexer": "ipython3",
   "version": "3.11.5"
  }
 },
 "nbformat": 4,
 "nbformat_minor": 5
}
